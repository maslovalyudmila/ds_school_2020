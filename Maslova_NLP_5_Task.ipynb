{
  "nbformat": 4,
  "nbformat_minor": 0,
  "metadata": {
    "colab": {
      "name": "Maslova_NLP_5_Task.ipynb",
      "provenance": [],
      "collapsed_sections": [],
      "include_colab_link": true
    },
    "kernelspec": {
      "name": "python3",
      "display_name": "Python 3"
    }
  },
  "cells": [
    {
      "cell_type": "markdown",
      "metadata": {
        "id": "view-in-github",
        "colab_type": "text"
      },
      "source": [
        "<a href=\"https://colab.research.google.com/github/maslovalyudmila/ds_school_2020/blob/master/Maslova_NLP_5_Task.ipynb\" target=\"_parent\"><img src=\"https://colab.research.google.com/assets/colab-badge.svg\" alt=\"Open In Colab\"/></a>"
      ]
    },
    {
      "cell_type": "code",
      "metadata": {
        "id": "PlYJLY-CfoQa",
        "colab_type": "code",
        "colab": {}
      },
      "source": [
        "import tensorflow as tf\n",
        "import tensorflow_datasets as tfds\n",
        "import numpy as np"
      ],
      "execution_count": 0,
      "outputs": []
    },
    {
      "cell_type": "code",
      "metadata": {
        "id": "SezxT0XmgPfM",
        "colab_type": "code",
        "colab": {}
      },
      "source": [
        "# import the data\n",
        "imdb_train = tfds.load(name='imdb_reviews', split='train', batch_size=-1)\n",
        "imdb_test = tfds.load(name='imdb_reviews', split='test', batch_size=-1)"
      ],
      "execution_count": 0,
      "outputs": []
    },
    {
      "cell_type": "code",
      "metadata": {
        "id": "Z_sgyVUAqrN7",
        "colab_type": "code",
        "colab": {}
      },
      "source": [
        "# tfds as numpy\n",
        "imdb_train = tfds.as_numpy(imdb_train)\n",
        "imdb_test = tfds.as_numpy(imdb_test)"
      ],
      "execution_count": 0,
      "outputs": []
    },
    {
      "cell_type": "code",
      "metadata": {
        "id": "wZ_gaZUdrCZA",
        "colab_type": "code",
        "outputId": "44639f7b-38a3-49ab-c9d2-74d8aac1b166",
        "colab": {
          "base_uri": "https://localhost:8080/",
          "height": 173
        }
      },
      "source": [
        "imdb_train['text'] # need to convert bytes?"
      ],
      "execution_count": 35,
      "outputs": [
        {
          "output_type": "execute_result",
          "data": {
            "text/plain": [
              "array([b\"This was an absolutely terrible movie. Don't be lured in by Christopher Walken or Michael Ironside. Both are great actors, but this must simply be their worst role in history. Even their great acting could not redeem this movie's ridiculous storyline. This movie is an early nineties US propaganda piece. The most pathetic scenes were those when the Columbian rebels were making their cases for revolutions. Maria Conchita Alonso appeared phony, and her pseudo-love affair with Walken was nothing but a pathetic emotional plug in a movie that was devoid of any real meaning. I am disappointed that there are movies like this, ruining actor's like Christopher Walken's good name. I could barely sit through it.\",\n",
              "       b'I have been known to fall asleep during films, but this is usually due to a combination of things including, really tired, being warm and comfortable on the sette and having just eaten a lot. However on this occasion I fell asleep because the film was rubbish. The plot development was constant. Constantly slow and boring. Things seemed to happen, but with no explanation of what was causing them or why. I admit, I may have missed part of the film, but i watched the majority of it and everything just seemed to happen of its own accord without any real concern for anything else. I cant recommend this film at all.',\n",
              "       b'Mann photographs the Alberta Rocky Mountains in a superb fashion, and Jimmy Stewart and Walter Brennan give enjoyable performances as they always seem to do. <br /><br />But come on Hollywood - a Mountie telling the people of Dawson City, Yukon to elect themselves a marshal (yes a marshal!) and to enforce the law themselves, then gunfighters battling it out on the streets for control of the town? <br /><br />Nothing even remotely resembling that happened on the Canadian side of the border during the Klondike gold rush. Mr. Mann and company appear to have mistaken Dawson City for Deadwood, the Canadian North for the American Wild West.<br /><br />Canadian viewers be prepared for a Reefer Madness type of enjoyable howl with this ludicrous plot, or, to shake your head in disgust.',\n",
              "       ...,\n",
              "       b'Okay. So I just got back. Before I start my review, let me tell you one thing: I wanted to like this movie. I know I\\'ve been negative in the past, but I was hoping to be surprised and actually come out liking the film. I didn\\'t.<br /><br />It\\'s not just the fact that every horror clich\\xc3\\xa9 imaginable is in this. And it\\'s not just the fact that they make every little thing into a jump scare (walking into a baseball bat left on the floor? Are you kidding me?). It just wasn\\'t scary. One thing I was surprised about: there was more blood than I thought there was going to be.. which isn\\'t saying much.<br /><br />The film starts off with Donna being dropped off by Lisa\\'s mom at her house. She comes in.. goes upstairs. Camera pans to her father dead on the couch. Spooky. She goes upstairs, where the aforementioned baseball bat scene happens. Finds her brother on his bed, apparently dead (how could she tell? He didn\\'t have a spot of blood on him). Killer comes in, Donna hides under bed, mom dies. She runs outside screaming for help. Killer behind her: \"I did it for us.\" Cut to therapy session. This confused a lot of people- everyone was asking whether or not her family actually died or if she imagined it- and she mentions how the nightmares have started coming back. Filler dialogue ensues.<br /><br />THey cut to the chase pretty quick. Few scenes at the salon, they go to the hotel. Of course the killer is already there (for some reason, he escaped 3 days ago but the police/family weren\\'t informed until he\\'s already there). More filler ensues.<br /><br />I\\'m not going to go on about what happens in the film, because I don\\'t want to spoil it too much. If you want to know who dies, Horror_Fan made a post about it already. But on the subjects of deaths: they weren\\'t that exciting. People in the theatre actually laughed out loud (an experience I\\'ve never had before in a horror movie, not even in When A Stranger Calls) during several of them. One in particular: the bus boy guy who gives the most hilarious \\'scared\\' face I\\'ve ever seen. The only death involving any blood was Lisa\\'s, and that was pretty scarce. Her throat is slashed, blood (if you can even call it that- it was practically black) splatters on the curtain-thing. The only other blood was on Claire when we see her body. Apparently, Fenton decided to stab her a few times after he choked her to death. Um, okay? The movie was one of the most clich\\xc3\\xa9d I\\'ve ever seen. Let\\'s see here.. obligatory close-mirror-curtain-BOOM! scene. Check. Twice, actually (you could tell they were struggling). Mandatory backing-up-into-killer. Check. There\\'s also the backing-up-into-lamp scene, but you\\'ve all seen that. Oh, you say you want a birds-flying-away scare? Well, you got it! (Yes, they managed to incorporate one of those in here). And, of course, the we-have-security-on-all-exits-but-he-still-escaped scene. Shall I go on? I could.<br /><br />For anyone saying the characters weren\\'t stupid, are you kidding me? \"Oh, even though the massive alarm is ringing, literally saying PLEASE VACATE THE BUILDING, and 3 of my friends are missing, I\\'m going to go upstairs to get my wrap.\" These characters were some of the most flawed and stupid characters ever. The only likable character - Lisa - made one of the most stupid moves in the movie. \"Oh, I just realized the psycho-teacher is here! I must leave my strong boyfriend behind to run off by myself to warn her! Oh, shoot, the elevator is being to slow? Guess I\\'ll take the stairs and run off into the construction site!\" Ugh. By the end of the film, they all deserved to die. The only death anyone felt any remorse for was Donna\\'s boyfriend (I can\\'t even remember his name- is that bad?), and by that time, the audience was completely drained out of this scareless, clich\\xc3\\xa9d film.<br /><br />There were SOME positives- the acting was decent for the most part, and it was well-shot. But that\\'s about it.<br /><br />I\\'d give it a 1/5, and that\\'s being generous. Just for the laughs (and believe me, the audience had a few), and Brittany Snow.<br /><br />Oh, and the reaction was bad. Very bad. People were boo-ing after the movie ended and buzz afterwards was very negative. Expect bad legs for this one.',\n",
              "       b'When I saw this trailer on TV I was surprised. In May of 2008 I was at Six Flags in New Jersey and this was showing at a 4-D attraction (you know, the attraction that the seats move). I take it that the version I saw was a shortened version (15 min.) and also re-created to add the motion effects. It was a cute movie... but that was it. It was educational and told about the first mission but the ending of a CGI spacewalk seemed a bit...well...trite. I was not a big fan of the movie but i would recommend this movie for any parent wanting to inform their children in a fun way about the first moonwalk. I will say, the character actors were well selected and the characters themselves were cute. So all-in-all, I would say, if you want to bring the younger kids... go for it. But if you are wanting to take your older kids, take them to another movie... they will thank you.',\n",
              "       b'First of all, Riget is wonderful. Good comedy and mystery thriller at the same time. Nice combination of strange \\'dogma\\' style of telling the story together with good music and great actors. But unfortunately there\\'s no \\'the end\\'. As for me it\\'s unacceptable. I was thinking... how it will be possible to continue the story without Helmer and Drusse? ...and I have some idea. I think Lars should make RIGET III a little bit different. I\\'m sure that 3rd part without Helmer wouldn\\'t be the same. So here\\'s my suggestion. Mayble little bit stupid, maybe not. I know that Lars likes to experiment. So why not to make small experiment with Riget3? I think the only solution here is to create puppet-driven animation (like for example \"team America\" by Trey Parker) or even computer 3d animation. I know it\\'s not the same as real actors, but in principle I believe it could work... only this way it\\'s possible to make actors alive again. For Riget fans this shouldn\\'t be so big difference - if the animation will be done in good way average \\'watcher\\' will consider it normal just after first few shots of the movie. The most important thing now is the story. It\\'s completely understandable that it\\'s not possible to create Riget 3 with the actors nowadays. So why not to play with animation? And... look for the possibilities that it gives to you! Even marketing one! Great director finishes his trilogy after 10 years using puppet animation. Just dreams?<br /><br />I hope to see Riget 3 someday... or even to see just the script. I\\'m curious how the story ends... and as I expect- everybody here do.<br /><br />greets, slaj<br /><br />ps: I\\'m not talking about the \"kingdom hospital\" by Stephen King ;-)'],\n",
              "      dtype=object)"
            ]
          },
          "metadata": {
            "tags": []
          },
          "execution_count": 35
        }
      ]
    },
    {
      "cell_type": "code",
      "metadata": {
        "id": "BS1LT0RDrpGK",
        "colab_type": "code",
        "outputId": "42cf585f-6ebb-4c02-dc54-5332ab3db4a5",
        "colab": {
          "base_uri": "https://localhost:8080/",
          "height": 34
        }
      },
      "source": [
        "imdb_train['label']"
      ],
      "execution_count": 36,
      "outputs": [
        {
          "output_type": "execute_result",
          "data": {
            "text/plain": [
              "array([0, 0, 0, ..., 0, 0, 1])"
            ]
          },
          "metadata": {
            "tags": []
          },
          "execution_count": 36
        }
      ]
    },
    {
      "cell_type": "code",
      "metadata": {
        "id": "uPusCAi4r8r2",
        "colab_type": "code",
        "colab": {}
      },
      "source": [
        "# encode the text\n",
        "decoder = np.vectorize(lambda x: x.decode('UTF-8'))\n",
        "imdb_train['text'] = decoder(imdb_train['text']) # from bytes to unicode string"
      ],
      "execution_count": 0,
      "outputs": []
    },
    {
      "cell_type": "code",
      "metadata": {
        "id": "YLqbnbdqtIoR",
        "colab_type": "code",
        "colab": {}
      },
      "source": [
        "# also for the test sample\n",
        "decoder = np.vectorize(lambda x: x.decode('UTF-8'))\n",
        "imdb_test['text'] = decoder(imdb_test['text'])"
      ],
      "execution_count": 0,
      "outputs": []
    },
    {
      "cell_type": "code",
      "metadata": {
        "id": "FSCvOagBrwCX",
        "colab_type": "code",
        "colab": {}
      },
      "source": [
        "# split the training and validate data\n",
        "\n",
        "X_train, y_train = imdb_train['text'], imdb_train['label']\n",
        "X_test, y_test = imdb_test['text'], imdb_train['label']"
      ],
      "execution_count": 0,
      "outputs": []
    },
    {
      "cell_type": "code",
      "metadata": {
        "id": "PUDJUNvHzBI3",
        "colab_type": "code",
        "colab": {
          "base_uri": "https://localhost:8080/",
          "height": 68
        },
        "outputId": "fe17fba1-99e5-4714-cdf9-6888ced17eea"
      },
      "source": [
        "# stopwords\n",
        "\n",
        "import nltk\n",
        "import nltk.corpus\n",
        "nltk.download('stopwords')\n",
        "\n",
        "# let's see\n",
        "stopwords = nltk.corpus.stopwords.words('english')\n",
        "stopwords[:10]"
      ],
      "execution_count": 41,
      "outputs": [
        {
          "output_type": "stream",
          "text": [
            "[nltk_data] Downloading package stopwords to /root/nltk_data...\n",
            "[nltk_data]   Package stopwords is already up-to-date!\n"
          ],
          "name": "stdout"
        },
        {
          "output_type": "execute_result",
          "data": {
            "text/plain": [
              "['i', 'me', 'my', 'myself', 'we', 'our', 'ours', 'ourselves', 'you', \"you're\"]"
            ]
          },
          "metadata": {
            "tags": []
          },
          "execution_count": 41
        }
      ]
    },
    {
      "cell_type": "code",
      "metadata": {
        "id": "6oGTDIa35XWC",
        "colab_type": "code",
        "outputId": "9d2c6150-5693-405d-8784-9e848e7070bd",
        "colab": {
          "base_uri": "https://localhost:8080/",
          "height": 34
        }
      },
      "source": [
        "import string\n",
        "print(string.punctuation)"
      ],
      "execution_count": 40,
      "outputs": [
        {
          "output_type": "stream",
          "text": [
            "!\"#$%&'()*+,-./:;<=>?@[\\]^_`{|}~\n"
          ],
          "name": "stdout"
        }
      ]
    },
    {
      "cell_type": "code",
      "metadata": {
        "id": "33XK9K880Is5",
        "colab_type": "code",
        "colab": {}
      },
      "source": [
        "# remove punctuation\n",
        "table = str.maketrans('', '', string.punctuation)\n",
        "X_train_cleaned = [w.translate(table) for w in X_train]\n",
        "X_test_cleaned = [w.translate(table) for w in X_test]"
      ],
      "execution_count": 0,
      "outputs": []
    },
    {
      "cell_type": "code",
      "metadata": {
        "id": "gTtcia8i0OBI",
        "colab_type": "code",
        "colab": {}
      },
      "source": [
        "# make the text lower\n",
        "X_train_lower = [word.lower() for word in X_train_cleaned]\n",
        "X_test_lower = [word.lower() for word in X_test_cleaned]"
      ],
      "execution_count": 0,
      "outputs": []
    },
    {
      "cell_type": "code",
      "metadata": {
        "id": "bmT040U90hlD",
        "colab_type": "code",
        "colab": {}
      },
      "source": [
        "# remove stopwords\n",
        "X_train_normalized = [w for w in X_train_lower if not w in stopwords]\n",
        "X_test_normalized = [w for w in X_test_lower if not w in stopwords]\n",
        "\n",
        "# NB! unfortunately i couldn't use stemming & lemmatization, \n",
        "# cause even during the circle it converted data too slow\n",
        "# ~ 1 hour still no result :("
      ],
      "execution_count": 0,
      "outputs": []
    },
    {
      "cell_type": "code",
      "metadata": {
        "id": "KO97aosJ1xIb",
        "colab_type": "code",
        "colab": {
          "base_uri": "https://localhost:8080/",
          "height": 85
        },
        "outputId": "4008671b-d74c-45ed-d19e-4e9bce43e86f"
      },
      "source": [
        "# as an experiment we can look at these tools, they are helpful\n",
        "from nltk.stem.porter import PorterStemmer\n",
        "from nltk.stem import WordNetLemmatizer\n",
        "nltk.download('punkt')\n",
        "nltk.download('wordnet')\n",
        "\n",
        "stemmer = PorterStemmer()\n",
        "lemmatizer = WordNetLemmatizer()"
      ],
      "execution_count": 51,
      "outputs": [
        {
          "output_type": "stream",
          "text": [
            "[nltk_data] Downloading package punkt to /root/nltk_data...\n",
            "[nltk_data]   Unzipping tokenizers/punkt.zip.\n",
            "[nltk_data] Downloading package wordnet to /root/nltk_data...\n",
            "[nltk_data]   Package wordnet is already up-to-date!\n"
          ],
          "name": "stdout"
        }
      ]
    },
    {
      "cell_type": "code",
      "metadata": {
        "id": "h4cY9UrDWsPd",
        "colab_type": "code",
        "colab": {}
      },
      "source": [
        "stem_text = [stemmer.stem(word) for word in (str(X_train_normalized)).split()]"
      ],
      "execution_count": 0,
      "outputs": []
    },
    {
      "cell_type": "code",
      "metadata": {
        "id": "mwpAX1N33SpL",
        "colab_type": "code",
        "colab": {}
      },
      "source": [
        "lem_text = [lemmatizer.lemmatize(word) for word in stem_text]"
      ],
      "execution_count": 0,
      "outputs": []
    },
    {
      "cell_type": "code",
      "metadata": {
        "id": "PHPi2Bne3Z4S",
        "colab_type": "code",
        "colab": {
          "base_uri": "https://localhost:8080/",
          "height": 34
        },
        "outputId": "1db70ca2-502f-43ec-8cb3-88a89df4094b"
      },
      "source": [
        "lem_text[:10] # it works in theory"
      ],
      "execution_count": 58,
      "outputs": [
        {
          "output_type": "execute_result",
          "data": {
            "text/plain": [
              "[\"['thi\", 'wa', 'an', 'absolut', 'terribl', 'movi', 'dont', 'be', 'lure', 'in']"
            ]
          },
          "metadata": {
            "tags": []
          },
          "execution_count": 58
        }
      ]
    },
    {
      "cell_type": "code",
      "metadata": {
        "id": "UmHgKApHsSg8",
        "colab_type": "code",
        "colab": {}
      },
      "source": [
        "# but then we need to join lists to make x assign y dimension\n",
        "# and got memory error"
      ],
      "execution_count": 0,
      "outputs": []
    },
    {
      "cell_type": "code",
      "metadata": {
        "id": "mnlKMGWqQXak",
        "colab_type": "code",
        "colab": {}
      },
      "source": [
        "# it was list, should we convert it to array back again?\n",
        "X_train_normalized = np.array(X_train_normalized)\n",
        "X_test_normalized = np.array(X_train_normalized)"
      ],
      "execution_count": 0,
      "outputs": []
    },
    {
      "cell_type": "code",
      "metadata": {
        "id": "Kt1DCiX6cVyY",
        "colab_type": "code",
        "colab": {
          "base_uri": "https://localhost:8080/",
          "height": 54
        },
        "outputId": "939e2ee9-a5eb-452e-dd1a-88d0bb1cbd0f"
      },
      "source": [
        "# let's look on the results\n",
        "# if we see them that means the correct dimension\n",
        "X_test_normalized[y_test == 1][0] # aww kind of film for a snowy sunday afternoon ')"
      ],
      "execution_count": 61,
      "outputs": [
        {
          "output_type": "execute_result",
          "data": {
            "text/plain": [
              "'this is the kind of film for a snowy sunday afternoon when the rest of the world can go ahead with its own business as you descend into a big armchair and mellow for a couple of hours wonderful performances from cher and nicolas cage as always gently row the plot along there are no rapids to cross no dangerous waters just a warm and witty paddle through new york life at its best a family film in every sense and one that deserves the praise it received'"
            ]
          },
          "metadata": {
            "tags": []
          },
          "execution_count": 61
        }
      ]
    },
    {
      "cell_type": "code",
      "metadata": {
        "id": "pJ-SnZcfRKWF",
        "colab_type": "code",
        "colab": {
          "base_uri": "https://localhost:8080/",
          "height": 54
        },
        "outputId": "c00a5ba7-df2d-4c5d-bd08-d668ecf77b4f"
      },
      "source": [
        "X_test_normalized[y_test == 0][0] # terrible movie"
      ],
      "execution_count": 63,
      "outputs": [
        {
          "output_type": "execute_result",
          "data": {
            "text/plain": [
              "'this was an absolutely terrible movie dont be lured in by christopher walken or michael ironside both are great actors but this must simply be their worst role in history even their great acting could not redeem this movies ridiculous storyline this movie is an early nineties us propaganda piece the most pathetic scenes were those when the columbian rebels were making their cases for revolutions maria conchita alonso appeared phony and her pseudolove affair with walken was nothing but a pathetic emotional plug in a movie that was devoid of any real meaning i am disappointed that there are movies like this ruining actors like christopher walkens good name i could barely sit through it'"
            ]
          },
          "metadata": {
            "tags": []
          },
          "execution_count": 63
        }
      ]
    },
    {
      "cell_type": "code",
      "metadata": {
        "id": "CIlZ2qB_YBma",
        "colab_type": "code",
        "colab": {}
      },
      "source": [
        "# finally we did it! our train data is ready for testing\n",
        "\n",
        "# update the data\n",
        "X_train = X_train_normalized\n",
        "X_test = X_test_normalized"
      ],
      "execution_count": 0,
      "outputs": []
    },
    {
      "cell_type": "markdown",
      "metadata": {
        "id": "EEYccQAQecFO",
        "colab_type": "text"
      },
      "source": [
        "**Tfidf + Logreg**"
      ]
    },
    {
      "cell_type": "code",
      "metadata": {
        "id": "FF0ZFBO8YR8I",
        "colab_type": "code",
        "colab": {
          "base_uri": "https://localhost:8080/",
          "height": 51
        },
        "outputId": "cc1a6174-f53d-4ad5-c4ea-d3fa00a726d2"
      },
      "source": [
        "# need vectorize data before\n",
        "from sklearn.feature_extraction.text import TfidfVectorizer\n",
        "\n",
        "# vectorize X_train\n",
        "vectorizer = TfidfVectorizer()\n",
        "vectorized_X_train = vectorizer.fit_transform(X_train)\n",
        "\n",
        "# vectorize X_test\n",
        "vectorizer = TfidfVectorizer()\n",
        "vectorized_X_test = vectorizer.fit_transform(X_test)\n",
        "\n",
        "print(vectorized_X_train.shape)\n",
        "print(vectorized_X_test.shape)"
      ],
      "execution_count": 67,
      "outputs": [
        {
          "output_type": "stream",
          "text": [
            "(25000, 120674)\n",
            "(25000, 120674)\n"
          ],
          "name": "stdout"
        }
      ]
    },
    {
      "cell_type": "code",
      "metadata": {
        "id": "IznqFSfnfmMW",
        "colab_type": "code",
        "outputId": "76650edd-7b20-44e3-b485-4ee1db598f26",
        "colab": {
          "base_uri": "https://localhost:8080/",
          "height": 102
        }
      },
      "source": [
        "from sklearn.linear_model import LogisticRegression\n",
        "from sklearn.metrics import classification_report\n",
        "from sklearn.metrics import confusion_matrix\n",
        "from sklearn.metrics import accuracy_score\n",
        "\n",
        "log_reg = LogisticRegression()\n",
        "log_reg.fit(vectorized_X_train, y_train)"
      ],
      "execution_count": 89,
      "outputs": [
        {
          "output_type": "execute_result",
          "data": {
            "text/plain": [
              "LogisticRegression(C=1.0, class_weight=None, dual=False, fit_intercept=True,\n",
              "                   intercept_scaling=1, l1_ratio=None, max_iter=100,\n",
              "                   multi_class='auto', n_jobs=None, penalty='l2',\n",
              "                   random_state=None, solver='lbfgs', tol=0.0001, verbose=0,\n",
              "                   warm_start=False)"
            ]
          },
          "metadata": {
            "tags": []
          },
          "execution_count": 89
        }
      ]
    },
    {
      "cell_type": "code",
      "metadata": {
        "id": "dBqVsw9krY5V",
        "colab_type": "code",
        "colab": {
          "base_uri": "https://localhost:8080/",
          "height": 170
        },
        "outputId": "56e33f02-0cb8-445e-efac-3ce56130330e"
      },
      "source": [
        "log_reg_predictions = log_reg.predict(vectorized_X_test)\n",
        "classification_report(log_reg_predictions, y_test)\n",
        "print(classification_report(log_reg_predictions, y_test))"
      ],
      "execution_count": 90,
      "outputs": [
        {
          "output_type": "stream",
          "text": [
            "              precision    recall  f1-score   support\n",
            "\n",
            "           0       0.93      0.94      0.93     12391\n",
            "           1       0.94      0.93      0.93     12609\n",
            "\n",
            "    accuracy                           0.93     25000\n",
            "   macro avg       0.93      0.93      0.93     25000\n",
            "weighted avg       0.93      0.93      0.93     25000\n",
            "\n"
          ],
          "name": "stdout"
        }
      ]
    },
    {
      "cell_type": "code",
      "metadata": {
        "id": "Zw2bRueuuYAD",
        "colab_type": "code",
        "colab": {
          "base_uri": "https://localhost:8080/",
          "height": 51
        },
        "outputId": "a38f9172-0881-4106-bf2d-cd2e1af65304"
      },
      "source": [
        "confusion_matrix(y_test, log_reg_predictions)"
      ],
      "execution_count": 91,
      "outputs": [
        {
          "output_type": "execute_result",
          "data": {
            "text/plain": [
              "array([[11607,   893],\n",
              "       [  784, 11716]])"
            ]
          },
          "metadata": {
            "tags": []
          },
          "execution_count": 91
        }
      ]
    },
    {
      "cell_type": "code",
      "metadata": {
        "id": "xS0Zqo478g0L",
        "colab_type": "code",
        "colab": {
          "base_uri": "https://localhost:8080/",
          "height": 51
        },
        "outputId": "d451f606-eda0-4160-87ae-fe04d9214f5c"
      },
      "source": [
        "print(11607+11716) # 23 323 correct predictions\n",
        "print(784+893) # 1 677 incorrect predictions"
      ],
      "execution_count": 83,
      "outputs": [
        {
          "output_type": "stream",
          "text": [
            "23323\n",
            "1677\n"
          ],
          "name": "stdout"
        }
      ]
    },
    {
      "cell_type": "code",
      "metadata": {
        "id": "4R6vleCarcxW",
        "colab_type": "code",
        "colab": {}
      },
      "source": [
        "# accuracy 0.93 = 93% good!"
      ],
      "execution_count": 0,
      "outputs": []
    },
    {
      "cell_type": "code",
      "metadata": {
        "id": "DVjg-JJBrr_t",
        "colab_type": "code",
        "colab": {
          "base_uri": "https://localhost:8080/",
          "height": 295
        },
        "outputId": "546d4a9c-f066-4890-c9d3-91e3a724a965"
      },
      "source": [
        "# vizualize the data\n",
        "\n",
        "from sklearn.metrics import roc_auc_score\n",
        "from sklearn.metrics import roc_curve\n",
        "import matplotlib.pyplot as plt \n",
        "\n",
        "logit_roc_auc = roc_auc_score(y_test, log_reg.predict(vectorized_X_test))\n",
        "fpr, tpr, thresholds = roc_curve(y_test, log_reg.predict_proba(vectorized_X_test)[:,1])\n",
        "plt.figure()\n",
        "plt.plot(fpr, tpr, label='Logistic Regression (area = %0.2f)' % logit_roc_auc)\n",
        "plt.plot([0, 1], [0, 1],'r--')\n",
        "plt.xlim([0.0, 1.0])\n",
        "plt.ylim([0.0, 1.05])\n",
        "plt.xlabel('False Positive Rate')\n",
        "plt.ylabel('True Positive Rate')\n",
        "plt.title('Receiver operating characteristic')\n",
        "plt.legend(loc=\"lower right\")\n",
        "plt.savefig('Log_ROC')\n",
        "plt.show()"
      ],
      "execution_count": 95,
      "outputs": [
        {
          "output_type": "display_data",
          "data": {
            "image/png": "[encoded data removed]",
            "text/plain": [
              "<Figure size 432x288 with 1 Axes>"
            ]
          },
          "metadata": {
            "tags": [],
            "needs_background": "light"
          }
        }
      ]
    },
    {
      "cell_type": "code",
      "metadata": {
        "id": "v_39gJbJb0ZB",
        "colab_type": "code",
        "colab": {}
      },
      "source": [
        "# The dotted line represents the ROC curve\n",
        "# a good classifier stays far away from that line (toward the top-left corner)"
      ],
      "execution_count": 0,
      "outputs": []
    },
    {
      "cell_type": "markdown",
      "metadata": {
        "id": "jrAyE2YJyGvS",
        "colab_type": "text"
      },
      "source": [
        "**Tokenizer + Dense**"
      ]
    },
    {
      "cell_type": "code",
      "metadata": {
        "id": "R3MHyxEf_OZC",
        "colab_type": "code",
        "colab": {}
      },
      "source": [
        "# import the tokenizer to convert the data \n",
        "from tensorflow.keras.preprocessing.text import Tokenizer\n",
        "\n",
        "# it creates one vector per document for input\n",
        "# the length of the vectors = size of the vocabulary\n",
        "tokenizer = Tokenizer(num_words=2)\n",
        "\n",
        "# fit the tokenizer on the data\n",
        "tokenizer.fit_on_texts(X_train)\n",
        "X_train_tokenized = tokenizer.texts_to_matrix(X_train) # shape (25000, 2)"
      ],
      "execution_count": 0,
      "outputs": []
    },
    {
      "cell_type": "code",
      "metadata": {
        "id": "c8t9-0y-AbbI",
        "colab_type": "code",
        "colab": {}
      },
      "source": [
        "# also for test data\n",
        "tokenizer.fit_on_texts(X_test)\n",
        "X_test_tokenized = tokenizer.texts_to_matrix(X_test) # shape (25000, 2)"
      ],
      "execution_count": 0,
      "outputs": []
    },
    {
      "cell_type": "code",
      "metadata": {
        "id": "6J9JQqweBH-w",
        "colab_type": "code",
        "colab": {}
      },
      "source": [
        "# import keras dense model\n",
        "from keras.models import Sequential\n",
        "from keras.layers import Dense\n",
        "\n",
        "# build model artchitecture\n",
        "model = Sequential( [\n",
        "                     Dense(64, activation='relu', input_shape=(2,)),\n",
        "                     Dense(1, activation='sigmoid'),])"
      ],
      "execution_count": 0,
      "outputs": []
    },
    {
      "cell_type": "code",
      "metadata": {
        "id": "9NX__6oQBVUR",
        "colab_type": "code",
        "colab": {}
      },
      "source": [
        "model.compile(optimizer='sgd', loss='binary_crossentropy', metrics=['accuracy'])"
      ],
      "execution_count": 0,
      "outputs": []
    },
    {
      "cell_type": "code",
      "metadata": {
        "id": "0VBA4ovqBbUW",
        "colab_type": "code",
        "colab": {
          "base_uri": "https://localhost:8080/",
          "height": 374
        },
        "outputId": "ee9c13c6-fdb5-45d3-dc12-e4c3da69f043"
      },
      "source": [
        "# let's test it\n",
        "hist = model.fit(X_train_tokenized, y_train, batch_size=64, epochs=10, validation_data=(X_test_tokenized, y_test))"
      ],
      "execution_count": 146,
      "outputs": [
        {
          "output_type": "stream",
          "text": [
            "Train on 25000 samples, validate on 25000 samples\n",
            "Epoch 1/10\n",
            "25000/25000 [==============================] - 1s 32us/step - loss: 0.6933 - accuracy: 0.4946 - val_loss: 0.6932 - val_accuracy: 0.5000\n",
            "Epoch 2/10\n",
            "25000/25000 [==============================] - 1s 29us/step - loss: 0.6932 - accuracy: 0.4997 - val_loss: 0.6932 - val_accuracy: 0.4988\n",
            "Epoch 3/10\n",
            "25000/25000 [==============================] - 1s 31us/step - loss: 0.6933 - accuracy: 0.4942 - val_loss: 0.6932 - val_accuracy: 0.4988\n",
            "Epoch 4/10\n",
            "25000/25000 [==============================] - 1s 30us/step - loss: 0.6933 - accuracy: 0.4971 - val_loss: 0.6932 - val_accuracy: 0.4988\n",
            "Epoch 5/10\n",
            "25000/25000 [==============================] - 1s 30us/step - loss: 0.6932 - accuracy: 0.5014 - val_loss: 0.6932 - val_accuracy: 0.5000\n",
            "Epoch 6/10\n",
            "25000/25000 [==============================] - 1s 31us/step - loss: 0.6932 - accuracy: 0.5007 - val_loss: 0.6932 - val_accuracy: 0.5000\n",
            "Epoch 7/10\n",
            "25000/25000 [==============================] - 1s 30us/step - loss: 0.6932 - accuracy: 0.5013 - val_loss: 0.6932 - val_accuracy: 0.4988\n",
            "Epoch 8/10\n",
            "25000/25000 [==============================] - 1s 30us/step - loss: 0.6932 - accuracy: 0.4973 - val_loss: 0.6932 - val_accuracy: 0.5000\n",
            "Epoch 9/10\n",
            "25000/25000 [==============================] - 1s 30us/step - loss: 0.6932 - accuracy: 0.4933 - val_loss: 0.6932 - val_accuracy: 0.5000\n",
            "Epoch 10/10\n",
            "25000/25000 [==============================] - 1s 30us/step - loss: 0.6932 - accuracy: 0.4961 - val_loss: 0.6932 - val_accuracy: 0.5000\n"
          ],
          "name": "stdout"
        }
      ]
    },
    {
      "cell_type": "code",
      "metadata": {
        "id": "swJ_9_BjBsC3",
        "colab_type": "code",
        "colab": {
          "base_uri": "https://localhost:8080/",
          "height": 51
        },
        "outputId": "1a598476-8edd-413e-96a8-7d1d7c944ca1"
      },
      "source": [
        "# well, not impressed by the accuracy\n",
        "\n",
        "model.evaluate(X_test_tokenized, y_test)[1]"
      ],
      "execution_count": 103,
      "outputs": [
        {
          "output_type": "stream",
          "text": [
            "25000/25000 [==============================] - 0s 17us/step\n"
          ],
          "name": "stdout"
        },
        {
          "output_type": "execute_result",
          "data": {
            "text/plain": [
              "0.5"
            ]
          },
          "metadata": {
            "tags": []
          },
          "execution_count": 103
        }
      ]
    },
    {
      "cell_type": "code",
      "metadata": {
        "id": "VnlN6PajB854",
        "colab_type": "code",
        "colab": {
          "base_uri": "https://localhost:8080/",
          "height": 295
        },
        "outputId": "a97dc22d-2638-4394-bfad-e16bef2568e7"
      },
      "source": [
        "plt.plot(hist.history['loss'])\n",
        "plt.plot(hist.history['val_loss'])\n",
        "plt.title(['Model loss'])\n",
        "plt.ylabel('Loss')\n",
        "plt.xlabel('Epoch')\n",
        "plt.legend(['Train', 'Val'], loc='upper right')\n",
        "plt.show()"
      ],
      "execution_count": 104,
      "outputs": [
        {
          "output_type": "display_data",
          "data": {
            "image/png": "[encoded data removed]",
            "text/plain": [
              "<Figure size 432x288 with 1 Axes>"
            ]
          },
          "metadata": {
            "tags": [],
            "needs_background": "light"
          }
        }
      ]
    },
    {
      "cell_type": "code",
      "metadata": {
        "id": "QUIeeZa3CHAE",
        "colab_type": "code",
        "colab": {
          "base_uri": "https://localhost:8080/",
          "height": 295
        },
        "outputId": "86cf116c-6a45-47ab-93ef-c004c22c5113"
      },
      "source": [
        "plt.plot(hist.history['accuracy'])\n",
        "plt.plot(hist.history['val_accuracy'])\n",
        "plt.title('Model accuracy')\n",
        "plt.ylabel('Accuracy')\n",
        "plt.xlabel('Epoch')\n",
        "plt.legend(['Train', 'Val'], loc='lower right')\n",
        "plt.show()"
      ],
      "execution_count": 105,
      "outputs": [
        {
          "output_type": "display_data",
          "data": {
            "image/png": "[encoded data removed]",
            "text/plain": [
              "<Figure size 432x288 with 1 Axes>"
            ]
          },
          "metadata": {
            "tags": [],
            "needs_background": "light"
          }
        }
      ]
    },
    {
      "cell_type": "code",
      "metadata": {
        "id": "Fb9FAacAL1YT",
        "colab_type": "code",
        "colab": {
          "base_uri": "https://localhost:8080/",
          "height": 224
        },
        "outputId": "bdf9c7ee-da3e-447f-f9df-7589c702d50e"
      },
      "source": [
        "# explore precision recall score\n",
        "predictions_dense = model.predict_classes(X_train_tokenized)\n",
        "classification_report(predictions_dense, y_test)\n",
        "print(classification_report(predictions_dense, y_test))"
      ],
      "execution_count": 184,
      "outputs": [
        {
          "output_type": "stream",
          "text": [
            "              precision    recall  f1-score   support\n",
            "\n",
            "           0       0.00      0.00      0.00         0\n",
            "           1       1.00      0.50      0.67     25000\n",
            "\n",
            "    accuracy                           0.50     25000\n",
            "   macro avg       0.50      0.25      0.33     25000\n",
            "weighted avg       1.00      0.50      0.67     25000\n",
            "\n"
          ],
          "name": "stdout"
        },
        {
          "output_type": "stream",
          "text": [
            "/usr/local/lib/python3.6/dist-packages/sklearn/metrics/_classification.py:1272: UndefinedMetricWarning: Recall and F-score are ill-defined and being set to 0.0 in labels with no true samples. Use `zero_division` parameter to control this behavior.\n",
            "  _warn_prf(average, modifier, msg_start, len(result))\n"
          ],
          "name": "stderr"
        }
      ]
    },
    {
      "cell_type": "markdown",
      "metadata": {
        "id": "YXey99iPCOg_",
        "colab_type": "text"
      },
      "source": [
        "**Embedding + RNN**"
      ]
    },
    {
      "cell_type": "code",
      "metadata": {
        "id": "6EjCvGl0CTD8",
        "colab_type": "code",
        "colab": {}
      },
      "source": [
        "# padding all input sequences to have the same length\n",
        "from keras.preprocessing.sequence import pad_sequences\n",
        "\n",
        "X_train_embedding = pad_sequences(tokenizer.texts_to_sequences(X_train))\n",
        "X_test_embedding = pad_sequences(tokenizer.texts_to_sequences(X_test))"
      ],
      "execution_count": 0,
      "outputs": []
    },
    {
      "cell_type": "code",
      "metadata": {
        "id": "Op1AMwjDDxnq",
        "colab_type": "code",
        "colab": {}
      },
      "source": [
        "# building the archirecture of NN with embedding layer\n",
        "from keras.layers import Embedding, SimpleRNN\n",
        "\n",
        "# input dim = size of the vocabulary (len(X_train_embedding) = 25000)\n",
        "# output dim = size of the vector space in which words will be embeded [32:]\n",
        "# input length = length of input sequences\n",
        "\n",
        "model = Sequential()\n",
        "model.add(Embedding(1000, 32))\n",
        "model.add(SimpleRNN(32))\n",
        "model.add(Dense(1, activation='sigmoid'))"
      ],
      "execution_count": 0,
      "outputs": []
    },
    {
      "cell_type": "code",
      "metadata": {
        "id": "m8lw6TlAaMEk",
        "colab_type": "code",
        "colab": {}
      },
      "source": [
        "model.compile(optimizer='rmsprop', loss='binary_crossentropy', metrics=['accuracy'])"
      ],
      "execution_count": 0,
      "outputs": []
    },
    {
      "cell_type": "code",
      "metadata": {
        "id": "Ox2wx0FhabQm",
        "colab_type": "code",
        "colab": {
          "base_uri": "https://localhost:8080/",
          "height": 428
        },
        "outputId": "95ad931d-c6ca-4fdd-9c5f-b9fccc4ecc0e"
      },
      "source": [
        "hist = model.fit(X_train_embedding, y_train, epochs=10, batch_size=1000, validation_data=(X_test_embedding, y_test))"
      ],
      "execution_count": 176,
      "outputs": [
        {
          "output_type": "stream",
          "text": [
            "/usr/local/lib/python3.6/dist-packages/tensorflow/python/framework/indexed_slices.py:434: UserWarning: Converting sparse IndexedSlices to a dense Tensor of unknown shape. This may consume a large amount of memory.\n",
            "  \"Converting sparse IndexedSlices to a dense Tensor of unknown shape. \"\n"
          ],
          "name": "stderr"
        },
        {
          "output_type": "stream",
          "text": [
            "Train on 25000 samples, validate on 25000 samples\n",
            "Epoch 1/10\n",
            "25000/25000 [==============================] - 8s 319us/step - loss: 0.6934 - accuracy: 0.5113 - val_loss: 0.6924 - val_accuracy: 0.5178\n",
            "Epoch 2/10\n",
            "25000/25000 [==============================] - 7s 283us/step - loss: 0.6929 - accuracy: 0.5079 - val_loss: 0.6929 - val_accuracy: 0.5188\n",
            "Epoch 3/10\n",
            "25000/25000 [==============================] - 7s 282us/step - loss: 0.6924 - accuracy: 0.5139 - val_loss: 0.6928 - val_accuracy: 0.5141\n",
            "Epoch 4/10\n",
            "25000/25000 [==============================] - 7s 282us/step - loss: 0.6929 - accuracy: 0.5094 - val_loss: 0.6920 - val_accuracy: 0.5197\n",
            "Epoch 5/10\n",
            "25000/25000 [==============================] - 7s 290us/step - loss: 0.6924 - accuracy: 0.5139 - val_loss: 0.6920 - val_accuracy: 0.5202\n",
            "Epoch 6/10\n",
            "25000/25000 [==============================] - 7s 280us/step - loss: 0.6923 - accuracy: 0.5170 - val_loss: 0.6926 - val_accuracy: 0.5078\n",
            "Epoch 7/10\n",
            "25000/25000 [==============================] - 7s 291us/step - loss: 0.6926 - accuracy: 0.5118 - val_loss: 0.6919 - val_accuracy: 0.5199\n",
            "Epoch 8/10\n",
            "25000/25000 [==============================] - 7s 289us/step - loss: 0.6924 - accuracy: 0.5172 - val_loss: 0.6920 - val_accuracy: 0.5202\n",
            "Epoch 9/10\n",
            "25000/25000 [==============================] - 7s 293us/step - loss: 0.6921 - accuracy: 0.5186 - val_loss: 0.6924 - val_accuracy: 0.5164\n",
            "Epoch 10/10\n",
            "25000/25000 [==============================] - 7s 294us/step - loss: 0.6923 - accuracy: 0.5161 - val_loss: 0.6922 - val_accuracy: 0.5150\n"
          ],
          "name": "stdout"
        }
      ]
    },
    {
      "cell_type": "code",
      "metadata": {
        "id": "OR2D2u2tbDxk",
        "colab_type": "code",
        "colab": {
          "base_uri": "https://localhost:8080/",
          "height": 51
        },
        "outputId": "bf0b4dad-3a23-4199-a2b7-51da637039df"
      },
      "source": [
        "# not impressed again with accuracy\n",
        "\n",
        "model.evaluate(X_test_embedding, y_test)[1]"
      ],
      "execution_count": 177,
      "outputs": [
        {
          "output_type": "stream",
          "text": [
            "25000/25000 [==============================] - 8s 310us/step\n"
          ],
          "name": "stdout"
        },
        {
          "output_type": "execute_result",
          "data": {
            "text/plain": [
              "0.5149999856948853"
            ]
          },
          "metadata": {
            "tags": []
          },
          "execution_count": 177
        }
      ]
    },
    {
      "cell_type": "code",
      "metadata": {
        "id": "_XHVnBSMa67E",
        "colab_type": "code",
        "colab": {
          "base_uri": "https://localhost:8080/",
          "height": 295
        },
        "outputId": "82548103-c27d-40a7-9a1c-152a429e2898"
      },
      "source": [
        "plt.plot(hist.history['loss'])\n",
        "plt.plot(hist.history['val_loss'])\n",
        "plt.title(['Model loss'])\n",
        "plt.ylabel('Loss')\n",
        "plt.xlabel('Epoch')\n",
        "plt.legend(['Train', 'Val'], loc='upper right')\n",
        "plt.show()"
      ],
      "execution_count": 178,
      "outputs": [
        {
          "output_type": "display_data",
          "data": {
            "image/png": "[encoded data removed]",
            "text/plain": [
              "<Figure size 432x288 with 1 Axes>"
            ]
          },
          "metadata": {
            "tags": [],
            "needs_background": "light"
          }
        }
      ]
    },
    {
      "cell_type": "code",
      "metadata": {
        "id": "2BGMbGtpbZU-",
        "colab_type": "code",
        "colab": {
          "base_uri": "https://localhost:8080/",
          "height": 295
        },
        "outputId": "174ad868-a6f0-4dc9-d080-7727046e826c"
      },
      "source": [
        "plt.plot(hist.history['accuracy'])\n",
        "plt.plot(hist.history['val_accuracy'])\n",
        "plt.title('Model accuracy')\n",
        "plt.ylabel('Accuracy')\n",
        "plt.xlabel('Epoch')\n",
        "plt.legend(['Train', 'Val'], loc='lower right')\n",
        "plt.show()"
      ],
      "execution_count": 179,
      "outputs": [
        {
          "output_type": "display_data",
          "data": {
            "image/png": "[encoded data removed]",
            "text/plain": [
              "<Figure size 432x288 with 1 Axes>"
            ]
          },
          "metadata": {
            "tags": [],
            "needs_background": "light"
          }
        }
      ]
    },
    {
      "cell_type": "code",
      "metadata": {
        "id": "kfhlxbdzeY8Y",
        "colab_type": "code",
        "colab": {
          "base_uri": "https://localhost:8080/",
          "height": 170
        },
        "outputId": "35336cb1-edb9-446a-8831-d7a8a768aede"
      },
      "source": [
        "predictions_rnn = model.predict_classes(X_train_embedding)\n",
        "classification_report(predictions_rnn, y_test)\n",
        "print(classification_report(predictions_rnn, y_test))"
      ],
      "execution_count": 185,
      "outputs": [
        {
          "output_type": "stream",
          "text": [
            "              precision    recall  f1-score   support\n",
            "\n",
            "           0       0.40      0.52      0.45      9605\n",
            "           1       0.63      0.51      0.57     15395\n",
            "\n",
            "    accuracy                           0.52     25000\n",
            "   macro avg       0.52      0.52      0.51     25000\n",
            "weighted avg       0.54      0.52      0.52     25000\n",
            "\n"
          ],
          "name": "stdout"
        }
      ]
    },
    {
      "cell_type": "markdown",
      "metadata": {
        "id": "9F2YaZcRbdp1",
        "colab_type": "text"
      },
      "source": [
        "**CONCLUSION:**"
      ]
    },
    {
      "cell_type": "markdown",
      "metadata": {
        "id": "dI5tmWsQcZjA",
        "colab_type": "text"
      },
      "source": [
        "Logreg model\n",
        "\n",
        "*   accuracy: 0.93 (93% > 70%)\n",
        "*   precision, recall:"
      ]
    },
    {
      "cell_type": "code",
      "metadata": {
        "id": "OpqpPRHscQcY",
        "colab_type": "code",
        "colab": {
          "base_uri": "https://localhost:8080/",
          "height": 170
        },
        "outputId": "4b11a6bd-b2e9-4bc9-8f1c-271100312f00"
      },
      "source": [
        "print(classification_report(log_reg_predictions, y_test))"
      ],
      "execution_count": 180,
      "outputs": [
        {
          "output_type": "stream",
          "text": [
            "              precision    recall  f1-score   support\n",
            "\n",
            "           0       0.93      0.94      0.93     12391\n",
            "           1       0.94      0.93      0.93     12609\n",
            "\n",
            "    accuracy                           0.93     25000\n",
            "   macro avg       0.93      0.93      0.93     25000\n",
            "weighted avg       0.93      0.93      0.93     25000\n",
            "\n"
          ],
          "name": "stdout"
        }
      ]
    },
    {
      "cell_type": "markdown",
      "metadata": {
        "id": "Uk0OPJurdGV_",
        "colab_type": "text"
      },
      "source": [
        "Dense model\n",
        "\n",
        "* accuracy: 0.50 (50% < 70%)\n",
        "* precision, recall:"
      ]
    },
    {
      "cell_type": "code",
      "metadata": {
        "id": "v-sYarhXd-Fd",
        "colab_type": "code",
        "colab": {
          "base_uri": "https://localhost:8080/",
          "height": 224
        },
        "outputId": "26a5366d-5bff-41c2-df50-6f12d90b44a7"
      },
      "source": [
        "print(classification_report(predictions_dense, y_test))"
      ],
      "execution_count": 181,
      "outputs": [
        {
          "output_type": "stream",
          "text": [
            "              precision    recall  f1-score   support\n",
            "\n",
            "           0       0.00      0.00      0.00         0\n",
            "           1       1.00      0.50      0.67     25000\n",
            "\n",
            "    accuracy                           0.50     25000\n",
            "   macro avg       0.50      0.25      0.33     25000\n",
            "weighted avg       1.00      0.50      0.67     25000\n",
            "\n"
          ],
          "name": "stdout"
        },
        {
          "output_type": "stream",
          "text": [
            "/usr/local/lib/python3.6/dist-packages/sklearn/metrics/_classification.py:1272: UndefinedMetricWarning: Recall and F-score are ill-defined and being set to 0.0 in labels with no true samples. Use `zero_division` parameter to control this behavior.\n",
            "  _warn_prf(average, modifier, msg_start, len(result))\n"
          ],
          "name": "stderr"
        }
      ]
    },
    {
      "cell_type": "markdown",
      "metadata": {
        "id": "oZiwVn44d8kO",
        "colab_type": "text"
      },
      "source": [
        "RNN model\n",
        "\n",
        "*   accuracy: 0.52 (52% < 70%)\n",
        "*   precisions, recall:"
      ]
    },
    {
      "cell_type": "code",
      "metadata": {
        "id": "p9PQ3C_-e74r",
        "colab_type": "code",
        "colab": {
          "base_uri": "https://localhost:8080/",
          "height": 170
        },
        "outputId": "869ea898-76e8-4189-a241-69bccd33357a"
      },
      "source": [
        "print(classification_report(predictions_rnn, y_test))"
      ],
      "execution_count": 183,
      "outputs": [
        {
          "output_type": "stream",
          "text": [
            "              precision    recall  f1-score   support\n",
            "\n",
            "           0       0.40      0.52      0.45      9605\n",
            "           1       0.63      0.51      0.57     15395\n",
            "\n",
            "    accuracy                           0.52     25000\n",
            "   macro avg       0.52      0.52      0.51     25000\n",
            "weighted avg       0.54      0.52      0.52     25000\n",
            "\n"
          ],
          "name": "stdout"
        }
      ]
    },
    {
      "cell_type": "markdown",
      "metadata": {
        "id": "lBUDxghVffr9",
        "colab_type": "text"
      },
      "source": [
        "Well, we see that Logistic Regression model demonstated quite high accuracy, preciison and recall score.\n",
        "\n",
        "RNN showed a few more accurate result than Dense (about 2%), but the score still too low to make predictions.\n",
        "\n",
        "The precision showes the share of reviews truly belonging to the specific class. For example, Dense model demonstrates higher (27%) score in positive reviews then RNN. But far lower than Logreg.\n",
        "\n",
        "The recall showes the share found reviews that belong to the specific class regarding all reviews in test sample. Dense recall score is a few higher (1%) by comparison with RNN."
      ]
    }
  ]
}