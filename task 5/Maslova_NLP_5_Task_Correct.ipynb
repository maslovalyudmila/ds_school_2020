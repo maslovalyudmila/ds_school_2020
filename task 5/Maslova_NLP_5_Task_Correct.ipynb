{
  "nbformat": 4,
  "nbformat_minor": 0,
  "metadata": {
    "colab": {
      "name": "Maslova_NLP_5_Task_Correct.ipynb",
      "provenance": [],
      "collapsed_sections": [],
      "include_colab_link": true
    },
    "kernelspec": {
      "name": "python3",
      "display_name": "Python 3"
    }
  },
  "cells": [
    {
      "cell_type": "markdown",
      "metadata": {
        "id": "view-in-github",
        "colab_type": "text"
      },
      "source": [
        "<a href=\"https://colab.research.google.com/github/maslovalyudmila/ds_school_2020/blob/master/Maslova_NLP_5_Task_Correct.ipynb\" target=\"_parent\"><img src=\"https://colab.research.google.com/assets/colab-badge.svg\" alt=\"Open In Colab\"/></a>"
      ]
    },
    {
      "cell_type": "code",
      "metadata": {
        "id": "PlYJLY-CfoQa",
        "colab_type": "code",
        "colab": {}
      },
      "source": [
        "import tensorflow as tf\n",
        "import tensorflow_datasets as tfds\n",
        "import numpy as np\n",
        "\n",
        "from sklearn.metrics import classification_report\n",
        "from sklearn.metrics import confusion_matrix\n",
        "from sklearn.metrics import accuracy_score\n",
        "\n",
        "import matplotlib.pyplot as plt "
      ],
      "execution_count": 0,
      "outputs": []
    },
    {
      "cell_type": "code",
      "metadata": {
        "id": "SezxT0XmgPfM",
        "colab_type": "code",
        "colab": {}
      },
      "source": [
        "# import the data\n",
        "imdb_train = tfds.load(name='imdb_reviews', split='train', batch_size=-1)\n",
        "imdb_test = tfds.load(name='imdb_reviews', split='test', batch_size=-1)"
      ],
      "execution_count": 0,
      "outputs": []
    },
    {
      "cell_type": "code",
      "metadata": {
        "id": "Z_sgyVUAqrN7",
        "colab_type": "code",
        "colab": {}
      },
      "source": [
        "# tfds as numpy\n",
        "imdb_train = tfds.as_numpy(imdb_train)\n",
        "imdb_test = tfds.as_numpy(imdb_test)"
      ],
      "execution_count": 0,
      "outputs": []
    },
    {
      "cell_type": "code",
      "metadata": {
        "id": "wZ_gaZUdrCZA",
        "colab_type": "code",
        "outputId": "06de13f2-b26c-4545-f6f0-5737e1e36262",
        "colab": {
          "base_uri": "https://localhost:8080/",
          "height": 88
        }
      },
      "source": [
        "imdb_train['text'][:2] # need to convert bytes?"
      ],
      "execution_count": 5,
      "outputs": [
        {
          "output_type": "execute_result",
          "data": {
            "text/plain": [
              "array([b\"This was an absolutely terrible movie. Don't be lured in by Christopher Walken or Michael Ironside. Both are great actors, but this must simply be their worst role in history. Even their great acting could not redeem this movie's ridiculous storyline. This movie is an early nineties US propaganda piece. The most pathetic scenes were those when the Columbian rebels were making their cases for revolutions. Maria Conchita Alonso appeared phony, and her pseudo-love affair with Walken was nothing but a pathetic emotional plug in a movie that was devoid of any real meaning. I am disappointed that there are movies like this, ruining actor's like Christopher Walken's good name. I could barely sit through it.\",\n",
              "       b'I have been known to fall asleep during films, but this is usually due to a combination of things including, really tired, being warm and comfortable on the sette and having just eaten a lot. However on this occasion I fell asleep because the film was rubbish. The plot development was constant. Constantly slow and boring. Things seemed to happen, but with no explanation of what was causing them or why. I admit, I may have missed part of the film, but i watched the majority of it and everything just seemed to happen of its own accord without any real concern for anything else. I cant recommend this film at all.'],\n",
              "      dtype=object)"
            ]
          },
          "metadata": {
            "tags": []
          },
          "execution_count": 5
        }
      ]
    },
    {
      "cell_type": "code",
      "metadata": {
        "id": "BS1LT0RDrpGK",
        "colab_type": "code",
        "outputId": "eedfc606-4b0d-4d31-c9fb-1489c02f09b6",
        "colab": {
          "base_uri": "https://localhost:8080/",
          "height": 34
        }
      },
      "source": [
        "imdb_train['label']"
      ],
      "execution_count": 24,
      "outputs": [
        {
          "output_type": "execute_result",
          "data": {
            "text/plain": [
              "array([0, 0, 0, ..., 0, 0, 1])"
            ]
          },
          "metadata": {
            "tags": []
          },
          "execution_count": 24
        }
      ]
    },
    {
      "cell_type": "code",
      "metadata": {
        "id": "uPusCAi4r8r2",
        "colab_type": "code",
        "colab": {}
      },
      "source": [
        "# encode the text\n",
        "decoder = np.vectorize(lambda x: x.decode('UTF-8'))\n",
        "imdb_train['text'] = decoder(imdb_train['text']) # from bytes to unicode string"
      ],
      "execution_count": 0,
      "outputs": []
    },
    {
      "cell_type": "code",
      "metadata": {
        "id": "YLqbnbdqtIoR",
        "colab_type": "code",
        "colab": {}
      },
      "source": [
        "# also for the test sample\n",
        "decoder = np.vectorize(lambda x: x.decode('UTF-8'))\n",
        "imdb_test['text'] = decoder(imdb_test['text'])"
      ],
      "execution_count": 0,
      "outputs": []
    },
    {
      "cell_type": "code",
      "metadata": {
        "id": "FSCvOagBrwCX",
        "colab_type": "code",
        "colab": {}
      },
      "source": [
        "# split the training and validate data\n",
        "\n",
        "X_train, y_train = imdb_train['text'], imdb_train['label']\n",
        "X_test, y_test = imdb_test['text'], imdb_test['label']"
      ],
      "execution_count": 0,
      "outputs": []
    },
    {
      "cell_type": "code",
      "metadata": {
        "id": "PUDJUNvHzBI3",
        "colab_type": "code",
        "outputId": "2b2bf9ea-0b36-464d-ade0-19651f4156ae",
        "colab": {
          "base_uri": "https://localhost:8080/",
          "height": 68
        }
      },
      "source": [
        "# stopwords\n",
        "\n",
        "import nltk\n",
        "import nltk.corpus\n",
        "nltk.download('stopwords')\n",
        "\n",
        "# let's see\n",
        "stopwords = nltk.corpus.stopwords.words('english')\n",
        "stopwords[:10]"
      ],
      "execution_count": 29,
      "outputs": [
        {
          "output_type": "stream",
          "text": [
            "[nltk_data] Downloading package stopwords to /root/nltk_data...\n",
            "[nltk_data]   Package stopwords is already up-to-date!\n"
          ],
          "name": "stdout"
        },
        {
          "output_type": "execute_result",
          "data": {
            "text/plain": [
              "['i', 'me', 'my', 'myself', 'we', 'our', 'ours', 'ourselves', 'you', \"you're\"]"
            ]
          },
          "metadata": {
            "tags": []
          },
          "execution_count": 29
        }
      ]
    },
    {
      "cell_type": "code",
      "metadata": {
        "id": "6oGTDIa35XWC",
        "colab_type": "code",
        "outputId": "413ec9b8-f564-4970-af32-c2405930f890",
        "colab": {
          "base_uri": "https://localhost:8080/",
          "height": 34
        }
      },
      "source": [
        "import string\n",
        "print(string.punctuation)"
      ],
      "execution_count": 28,
      "outputs": [
        {
          "output_type": "stream",
          "text": [
            "!\"#$%&'()*+,-./:;<=>?@[\\]^_`{|}~\n"
          ],
          "name": "stdout"
        }
      ]
    },
    {
      "cell_type": "code",
      "metadata": {
        "id": "33XK9K880Is5",
        "colab_type": "code",
        "colab": {}
      },
      "source": [
        "# remove punctuation\n",
        "table = str.maketrans('', '', string.punctuation)\n",
        "X_train_cleaned = [w.translate(table) for w in X_train]\n",
        "X_test_cleaned = [w.translate(table) for w in X_test]"
      ],
      "execution_count": 0,
      "outputs": []
    },
    {
      "cell_type": "code",
      "metadata": {
        "id": "gTtcia8i0OBI",
        "colab_type": "code",
        "colab": {}
      },
      "source": [
        "# make the text lower\n",
        "X_train_lower = [word.lower() for word in X_train_cleaned]\n",
        "X_test_lower = [word.lower() for word in X_test_cleaned]"
      ],
      "execution_count": 0,
      "outputs": []
    },
    {
      "cell_type": "code",
      "metadata": {
        "id": "bmT040U90hlD",
        "colab_type": "code",
        "colab": {}
      },
      "source": [
        "# remove stopwords\n",
        "X_train_normalized = [w for w in X_train_lower if not w in stopwords]\n",
        "X_test_normalized = [w for w in X_test_lower if not w in stopwords]\n",
        "\n",
        "# NB! unfortunately i couldn't use stemming & lemmatization, \n",
        "# cause even during the circle it converted data too slow\n",
        "# ~ 1 hour still no result :("
      ],
      "execution_count": 0,
      "outputs": []
    },
    {
      "cell_type": "code",
      "metadata": {
        "id": "KO97aosJ1xIb",
        "colab_type": "code",
        "outputId": "7c764028-1cca-4921-d467-c81b385c0022",
        "colab": {
          "base_uri": "https://localhost:8080/",
          "height": 85
        }
      },
      "source": [
        "# as an experiment we can look at these tools, they are helpful\n",
        "from nltk.stem.porter import PorterStemmer\n",
        "from nltk.stem import WordNetLemmatizer\n",
        "nltk.download('punkt')\n",
        "nltk.download('wordnet')\n",
        "\n",
        "stemmer = PorterStemmer()\n",
        "lemmatizer = WordNetLemmatizer()"
      ],
      "execution_count": 34,
      "outputs": [
        {
          "output_type": "stream",
          "text": [
            "[nltk_data] Downloading package punkt to /root/nltk_data...\n",
            "[nltk_data]   Package punkt is already up-to-date!\n",
            "[nltk_data] Downloading package wordnet to /root/nltk_data...\n",
            "[nltk_data]   Package wordnet is already up-to-date!\n"
          ],
          "name": "stdout"
        }
      ]
    },
    {
      "cell_type": "code",
      "metadata": {
        "id": "h4cY9UrDWsPd",
        "colab_type": "code",
        "colab": {}
      },
      "source": [
        "stem_text = [stemmer.stem(word) for word in (str(X_train_normalized)).split()]"
      ],
      "execution_count": 0,
      "outputs": []
    },
    {
      "cell_type": "code",
      "metadata": {
        "id": "mwpAX1N33SpL",
        "colab_type": "code",
        "colab": {}
      },
      "source": [
        "lem_text = [lemmatizer.lemmatize(word) for word in stem_text]"
      ],
      "execution_count": 0,
      "outputs": []
    },
    {
      "cell_type": "code",
      "metadata": {
        "id": "PHPi2Bne3Z4S",
        "colab_type": "code",
        "outputId": "1db70ca2-502f-43ec-8cb3-88a89df4094b",
        "colab": {
          "base_uri": "https://localhost:8080/",
          "height": 34
        }
      },
      "source": [
        "lem_text[:10] # it works in theory"
      ],
      "execution_count": 0,
      "outputs": [
        {
          "output_type": "execute_result",
          "data": {
            "text/plain": [
              "[\"['thi\", 'wa', 'an', 'absolut', 'terribl', 'movi', 'dont', 'be', 'lure', 'in']"
            ]
          },
          "metadata": {
            "tags": []
          },
          "execution_count": 58
        }
      ]
    },
    {
      "cell_type": "code",
      "metadata": {
        "id": "UmHgKApHsSg8",
        "colab_type": "code",
        "colab": {}
      },
      "source": [
        "# but then we need to join lists to make x assign y dimension\n",
        "# and got memory error"
      ],
      "execution_count": 0,
      "outputs": []
    },
    {
      "cell_type": "code",
      "metadata": {
        "id": "mnlKMGWqQXak",
        "colab_type": "code",
        "colab": {}
      },
      "source": [
        "# it was list, should we convert it to array back again?\n",
        "X_train_normalized = np.array(X_train_normalized)\n",
        "X_test_normalized = np.array(X_train_normalized)"
      ],
      "execution_count": 0,
      "outputs": []
    },
    {
      "cell_type": "code",
      "metadata": {
        "id": "Kt1DCiX6cVyY",
        "colab_type": "code",
        "outputId": "7473e38b-26cd-4695-b988-32890cd5bc4d",
        "colab": {
          "base_uri": "https://localhost:8080/",
          "height": 54
        }
      },
      "source": [
        "# let's look on the results\n",
        "# if we see them that means the correct dimension\n",
        "X_test_normalized[y_test == 1][0] # aww kind of film for a snowy sunday afternoon ')"
      ],
      "execution_count": 37,
      "outputs": [
        {
          "output_type": "execute_result",
          "data": {
            "text/plain": [
              "'this was an absolutely terrible movie dont be lured in by christopher walken or michael ironside both are great actors but this must simply be their worst role in history even their great acting could not redeem this movies ridiculous storyline this movie is an early nineties us propaganda piece the most pathetic scenes were those when the columbian rebels were making their cases for revolutions maria conchita alonso appeared phony and her pseudolove affair with walken was nothing but a pathetic emotional plug in a movie that was devoid of any real meaning i am disappointed that there are movies like this ruining actors like christopher walkens good name i could barely sit through it'"
            ]
          },
          "metadata": {
            "tags": []
          },
          "execution_count": 37
        }
      ]
    },
    {
      "cell_type": "code",
      "metadata": {
        "id": "pJ-SnZcfRKWF",
        "colab_type": "code",
        "outputId": "c653c828-982a-4c1c-a9b2-8156dbabb6ee",
        "colab": {
          "base_uri": "https://localhost:8080/",
          "height": 54
        }
      },
      "source": [
        "X_test_normalized[y_test == 0][0] # terrible movie"
      ],
      "execution_count": 20,
      "outputs": [
        {
          "output_type": "execute_result",
          "data": {
            "text/plain": [
              "'this was an absolutely terrible movie dont be lured in by christopher walken or michael ironside both are great actors but this must simply be their worst role in history even their great acting could not redeem this movies ridiculous storyline this movie is an early nineties us propaganda piece the most pathetic scenes were those when the columbian rebels were making their cases for revolutions maria conchita alonso appeared phony and her pseudolove affair with walken was nothing but a pathetic emotional plug in a movie that was devoid of any real meaning i am disappointed that there are movies like this ruining actors like christopher walkens good name i could barely sit through it'"
            ]
          },
          "metadata": {
            "tags": []
          },
          "execution_count": 20
        }
      ]
    },
    {
      "cell_type": "code",
      "metadata": {
        "id": "CIlZ2qB_YBma",
        "colab_type": "code",
        "colab": {}
      },
      "source": [
        "# finally we did it! our train data is ready for testing\n",
        "\n",
        "# original data: X_train, X_test\n",
        "# preprocessed data for logreg: X_train_normalized, X_test_normalized"
      ],
      "execution_count": 0,
      "outputs": []
    },
    {
      "cell_type": "markdown",
      "metadata": {
        "id": "EEYccQAQecFO",
        "colab_type": "text"
      },
      "source": [
        "**Tfidf + Logreg**"
      ]
    },
    {
      "cell_type": "code",
      "metadata": {
        "id": "FF0ZFBO8YR8I",
        "colab_type": "code",
        "outputId": "344ce77a-5084-4005-d756-c491878f3cbc",
        "colab": {
          "base_uri": "https://localhost:8080/",
          "height": 231
        }
      },
      "source": [
        "# need vectorize data before\n",
        "from sklearn.feature_extraction.text import TfidfVectorizer\n",
        "\n",
        "# vectorize X_train\n",
        "vectorizer = TfidfVectorizer()\n",
        "vectorized_X_train = vectorizer.fit_transform(X_train_normalized)\n",
        "\n",
        "# vectorize X_test\n",
        "vectorizer = TfidfVectorizer()\n",
        "vectorized_X_test = vectorizer.fit_transform(X_test_normalized)\n",
        "\n",
        "print(vectorized_X_train.shape)\n",
        "print(vectorized_X_test.shape)"
      ],
      "execution_count": 37,
      "outputs": [
        {
          "output_type": "error",
          "ename": "NameError",
          "evalue": "ignored",
          "traceback": [
            "\u001b[0;31m---------------------------------------------------------------------------\u001b[0m",
            "\u001b[0;31mNameError\u001b[0m                                 Traceback (most recent call last)",
            "\u001b[0;32m<ipython-input-37-1532c1f8ada8>\u001b[0m in \u001b[0;36m<module>\u001b[0;34m()\u001b[0m\n\u001b[1;32m      4\u001b[0m \u001b[0;31m# vectorize X_train\u001b[0m\u001b[0;34m\u001b[0m\u001b[0;34m\u001b[0m\u001b[0;34m\u001b[0m\u001b[0m\n\u001b[1;32m      5\u001b[0m \u001b[0mvectorizer\u001b[0m \u001b[0;34m=\u001b[0m \u001b[0mTfidfVectorizer\u001b[0m\u001b[0;34m(\u001b[0m\u001b[0;34m)\u001b[0m\u001b[0;34m\u001b[0m\u001b[0;34m\u001b[0m\u001b[0m\n\u001b[0;32m----> 6\u001b[0;31m \u001b[0mvectorized_X_train\u001b[0m \u001b[0;34m=\u001b[0m \u001b[0mvectorizer\u001b[0m\u001b[0;34m.\u001b[0m\u001b[0mfit_transform\u001b[0m\u001b[0;34m(\u001b[0m\u001b[0mX_train_normalized\u001b[0m\u001b[0;34m)\u001b[0m\u001b[0;34m\u001b[0m\u001b[0;34m\u001b[0m\u001b[0m\n\u001b[0m\u001b[1;32m      7\u001b[0m \u001b[0;34m\u001b[0m\u001b[0m\n\u001b[1;32m      8\u001b[0m \u001b[0;31m# vectorize X_test\u001b[0m\u001b[0;34m\u001b[0m\u001b[0;34m\u001b[0m\u001b[0;34m\u001b[0m\u001b[0m\n",
            "\u001b[0;31mNameError\u001b[0m: name 'X_train_normalized' is not defined"
          ]
        }
      ]
    },
    {
      "cell_type": "code",
      "metadata": {
        "id": "IznqFSfnfmMW",
        "colab_type": "code",
        "outputId": "c0e05b80-b927-41f1-dfa4-25fd38296089",
        "colab": {
          "base_uri": "https://localhost:8080/",
          "height": 102
        }
      },
      "source": [
        "from sklearn.linear_model import LogisticRegression\n",
        "\n",
        "log_reg = LogisticRegression()\n",
        "log_reg.fit(vectorized_X_train, y_train)"
      ],
      "execution_count": 40,
      "outputs": [
        {
          "output_type": "execute_result",
          "data": {
            "text/plain": [
              "LogisticRegression(C=1.0, class_weight=None, dual=False, fit_intercept=True,\n",
              "                   intercept_scaling=1, l1_ratio=None, max_iter=100,\n",
              "                   multi_class='auto', n_jobs=None, penalty='l2',\n",
              "                   random_state=None, solver='lbfgs', tol=0.0001, verbose=0,\n",
              "                   warm_start=False)"
            ]
          },
          "metadata": {
            "tags": []
          },
          "execution_count": 40
        }
      ]
    },
    {
      "cell_type": "code",
      "metadata": {
        "id": "dBqVsw9krY5V",
        "colab_type": "code",
        "outputId": "851b2746-546f-4b66-8f60-b19fc3900b85",
        "colab": {
          "base_uri": "https://localhost:8080/",
          "height": 170
        }
      },
      "source": [
        "log_reg_predictions = log_reg.predict(vectorized_X_test)\n",
        "classification_report(log_reg_predictions, y_test)\n",
        "print(classification_report(log_reg_predictions, y_test))"
      ],
      "execution_count": 42,
      "outputs": [
        {
          "output_type": "stream",
          "text": [
            "              precision    recall  f1-score   support\n",
            "\n",
            "           0       0.49      0.50      0.50     12391\n",
            "           1       0.50      0.50      0.50     12609\n",
            "\n",
            "    accuracy                           0.50     25000\n",
            "   macro avg       0.50      0.50      0.50     25000\n",
            "weighted avg       0.50      0.50      0.50     25000\n",
            "\n"
          ],
          "name": "stdout"
        }
      ]
    },
    {
      "cell_type": "code",
      "metadata": {
        "id": "Zw2bRueuuYAD",
        "colab_type": "code",
        "outputId": "7e355f80-ad14-4ef3-bb97-4fd953bcf2e5",
        "colab": {
          "base_uri": "https://localhost:8080/",
          "height": 51
        }
      },
      "source": [
        "confusion_matrix(y_test, log_reg_predictions)"
      ],
      "execution_count": 43,
      "outputs": [
        {
          "output_type": "execute_result",
          "data": {
            "text/plain": [
              "array([[6170, 6330],\n",
              "       [6221, 6279]])"
            ]
          },
          "metadata": {
            "tags": []
          },
          "execution_count": 43
        }
      ]
    },
    {
      "cell_type": "code",
      "metadata": {
        "id": "xS0Zqo478g0L",
        "colab_type": "code",
        "outputId": "7781ad56-e894-4cbf-dce8-e65bd480e3bc",
        "colab": {
          "base_uri": "https://localhost:8080/",
          "height": 51
        }
      },
      "source": [
        "print(6179+6279) # 12 458 correct predictions\n",
        "print(6221+6279) # 12500 incorrect predictions"
      ],
      "execution_count": 45,
      "outputs": [
        {
          "output_type": "stream",
          "text": [
            "12458\n",
            "12500\n"
          ],
          "name": "stdout"
        }
      ]
    },
    {
      "cell_type": "code",
      "metadata": {
        "id": "4R6vleCarcxW",
        "colab_type": "code",
        "colab": {}
      },
      "source": [
        "# accuracy 0.50 = 50% not good"
      ],
      "execution_count": 0,
      "outputs": []
    },
    {
      "cell_type": "code",
      "metadata": {
        "id": "DVjg-JJBrr_t",
        "colab_type": "code",
        "outputId": "52094330-bfd1-47bc-e212-cb626b8cb7e7",
        "colab": {
          "base_uri": "https://localhost:8080/",
          "height": 295
        }
      },
      "source": [
        "# vizualize the data\n",
        "\n",
        "from sklearn.metrics import roc_auc_score\n",
        "from sklearn.metrics import roc_curve\n",
        "\n",
        "\n",
        "logit_roc_auc = roc_auc_score(y_test, log_reg.predict(vectorized_X_test))\n",
        "fpr, tpr, thresholds = roc_curve(y_test, log_reg.predict_proba(vectorized_X_test)[:,1])\n",
        "plt.figure()\n",
        "plt.plot(fpr, tpr, label='Logistic Regression (area = %0.2f)' % logit_roc_auc)\n",
        "plt.plot([0, 1], [0, 1],'r--')\n",
        "plt.xlim([0.0, 1.0])\n",
        "plt.ylim([0.0, 1.05])\n",
        "plt.xlabel('False Positive Rate')\n",
        "plt.ylabel('True Positive Rate')\n",
        "plt.title('Receiver operating characteristic')\n",
        "plt.legend(loc=\"lower right\")\n",
        "plt.savefig('Log_ROC')\n",
        "plt.show()"
      ],
      "execution_count": 47,
      "outputs": [
        {
          "output_type": "display_data",
          "data": {
            "image/png": "[encoded data removed]",
            "text/plain": [
              "<Figure size 432x288 with 1 Axes>"
            ]
          },
          "metadata": {
            "tags": [],
            "needs_background": "light"
          }
        }
      ]
    },
    {
      "cell_type": "code",
      "metadata": {
        "id": "v_39gJbJb0ZB",
        "colab_type": "code",
        "colab": {}
      },
      "source": [
        "# The dotted line represents the ROC curve\n",
        "# a good classifier stays far away from that line (toward the top-left corner)"
      ],
      "execution_count": 0,
      "outputs": []
    },
    {
      "cell_type": "markdown",
      "metadata": {
        "id": "jrAyE2YJyGvS",
        "colab_type": "text"
      },
      "source": [
        "**Tokenizer + Dense**"
      ]
    },
    {
      "cell_type": "code",
      "metadata": {
        "id": "R3MHyxEf_OZC",
        "colab_type": "code",
        "colab": {}
      },
      "source": [
        "# import the tokenizer to convert the data \n",
        "from tensorflow.keras.preprocessing.text import Tokenizer\n",
        "\n",
        "# it creates one vector per document for input\n",
        "# the length of the vectors = size of the vocabulary\n",
        "tokenizer = Tokenizer(num_words=10000) # maximum number of words based of word frequency"
      ],
      "execution_count": 0,
      "outputs": []
    },
    {
      "cell_type": "code",
      "metadata": {
        "id": "Q0JfqCcjQZwV",
        "colab_type": "code",
        "colab": {}
      },
      "source": [
        "# fit the tokenizer on the data\n",
        "tokenizer.fit_on_texts(X_train)\n",
        "X_train_tokenized = tokenizer.texts_to_matrix(X_train)"
      ],
      "execution_count": 0,
      "outputs": []
    },
    {
      "cell_type": "code",
      "metadata": {
        "id": "B5OdiqsjF7Xv",
        "colab_type": "code",
        "colab": {
          "base_uri": "https://localhost:8080/",
          "height": 136
        },
        "outputId": "b9034236-c6aa-40ee-f81a-b2c65c6db44a"
      },
      "source": [
        "# look on the result as an example\n",
        "X_train_tokenized"
      ],
      "execution_count": 11,
      "outputs": [
        {
          "output_type": "execute_result",
          "data": {
            "text/plain": [
              "array([[0., 1., 1., ..., 0., 0., 0.],\n",
              "       [0., 1., 1., ..., 0., 0., 0.],\n",
              "       [0., 1., 1., ..., 0., 0., 0.],\n",
              "       ...,\n",
              "       [0., 1., 1., ..., 0., 0., 0.],\n",
              "       [0., 1., 1., ..., 0., 0., 0.],\n",
              "       [0., 1., 1., ..., 0., 0., 0.]])"
            ]
          },
          "metadata": {
            "tags": []
          },
          "execution_count": 11
        }
      ]
    },
    {
      "cell_type": "code",
      "metadata": {
        "id": "c8t9-0y-AbbI",
        "colab_type": "code",
        "colab": {}
      },
      "source": [
        "# also for test data\n",
        "X_test_tokenized = tokenizer.texts_to_matrix(X_test)"
      ],
      "execution_count": 0,
      "outputs": []
    },
    {
      "cell_type": "code",
      "metadata": {
        "id": "6J9JQqweBH-w",
        "colab_type": "code",
        "colab": {
          "base_uri": "https://localhost:8080/",
          "height": 34
        },
        "outputId": "3352c4f3-e11a-42be-aff7-a39f7f043f29"
      },
      "source": [
        "# import keras dense model\n",
        "from keras.models import Sequential\n",
        "from keras.layers import Dense\n",
        "\n",
        "# build model artchitecture\n",
        "model = Sequential( [\n",
        "                     Dense(64, activation='relu', input_shape=(10000,)),\n",
        "                     Dense(32, activation='relu'),\n",
        "                     Dense(1, activation='sigmoid'),])"
      ],
      "execution_count": 13,
      "outputs": [
        {
          "output_type": "stream",
          "text": [
            "Using TensorFlow backend.\n"
          ],
          "name": "stderr"
        }
      ]
    },
    {
      "cell_type": "code",
      "metadata": {
        "id": "9NX__6oQBVUR",
        "colab_type": "code",
        "colab": {}
      },
      "source": [
        "model.compile(optimizer='sgd', loss='binary_crossentropy', metrics=['accuracy'])"
      ],
      "execution_count": 0,
      "outputs": []
    },
    {
      "cell_type": "code",
      "metadata": {
        "id": "0VBA4ovqBbUW",
        "colab_type": "code",
        "outputId": "5b545f1d-b100-426b-af8c-4f3cd7339f71",
        "colab": {
          "base_uri": "https://localhost:8080/",
          "height": 374
        }
      },
      "source": [
        "# let's test it\n",
        "hist = model.fit(X_train_tokenized, y_train, batch_size=64, epochs=10, validation_data=(X_test_tokenized, y_test))"
      ],
      "execution_count": 15,
      "outputs": [
        {
          "output_type": "stream",
          "text": [
            "Train on 25000 samples, validate on 25000 samples\n",
            "Epoch 1/10\n",
            "25000/25000 [==============================] - 7s 276us/step - loss: 0.6428 - accuracy: 0.6756 - val_loss: 0.5545 - val_accuracy: 0.7841\n",
            "Epoch 2/10\n",
            "25000/25000 [==============================] - 7s 262us/step - loss: 0.4569 - accuracy: 0.8245 - val_loss: 0.3958 - val_accuracy: 0.8390\n",
            "Epoch 3/10\n",
            "25000/25000 [==============================] - 7s 263us/step - loss: 0.3498 - accuracy: 0.8592 - val_loss: 0.3398 - val_accuracy: 0.8601\n",
            "Epoch 4/10\n",
            "25000/25000 [==============================] - 7s 265us/step - loss: 0.3031 - accuracy: 0.8770 - val_loss: 0.3162 - val_accuracy: 0.8691\n",
            "Epoch 5/10\n",
            "25000/25000 [==============================] - 6s 260us/step - loss: 0.2746 - accuracy: 0.8912 - val_loss: 0.3012 - val_accuracy: 0.8754\n",
            "Epoch 6/10\n",
            "25000/25000 [==============================] - 7s 268us/step - loss: 0.2533 - accuracy: 0.8991 - val_loss: 0.2932 - val_accuracy: 0.8794\n",
            "Epoch 7/10\n",
            "25000/25000 [==============================] - 7s 275us/step - loss: 0.2361 - accuracy: 0.9070 - val_loss: 0.2918 - val_accuracy: 0.8798\n",
            "Epoch 8/10\n",
            "25000/25000 [==============================] - 6s 259us/step - loss: 0.2232 - accuracy: 0.9138 - val_loss: 0.2882 - val_accuracy: 0.8815\n",
            "Epoch 9/10\n",
            "25000/25000 [==============================] - 6s 259us/step - loss: 0.2111 - accuracy: 0.9196 - val_loss: 0.2889 - val_accuracy: 0.8813\n",
            "Epoch 10/10\n",
            "25000/25000 [==============================] - 6s 255us/step - loss: 0.2002 - accuracy: 0.9247 - val_loss: 0.2972 - val_accuracy: 0.8787\n"
          ],
          "name": "stdout"
        }
      ]
    },
    {
      "cell_type": "code",
      "metadata": {
        "id": "swJ_9_BjBsC3",
        "colab_type": "code",
        "outputId": "473d460a-90cc-40c4-e420-73922bd9c51e",
        "colab": {
          "base_uri": "https://localhost:8080/",
          "height": 51
        }
      },
      "source": [
        "# the accuracy for validation data = 87% good!\n",
        "\n",
        "model.evaluate(X_test_tokenized, y_test)[1]"
      ],
      "execution_count": 16,
      "outputs": [
        {
          "output_type": "stream",
          "text": [
            "25000/25000 [==============================] - 2s 98us/step\n"
          ],
          "name": "stdout"
        },
        {
          "output_type": "execute_result",
          "data": {
            "text/plain": [
              "0.8786799907684326"
            ]
          },
          "metadata": {
            "tags": []
          },
          "execution_count": 16
        }
      ]
    },
    {
      "cell_type": "code",
      "metadata": {
        "id": "VnlN6PajB854",
        "colab_type": "code",
        "outputId": "9aa48760-3e87-4a4d-d961-efa9b3906c76",
        "colab": {
          "base_uri": "https://localhost:8080/",
          "height": 295
        }
      },
      "source": [
        "plt.plot(hist.history['loss'])\n",
        "plt.plot(hist.history['val_loss'])\n",
        "plt.title(['Model loss'])\n",
        "plt.ylabel('Loss')\n",
        "plt.xlabel('Epoch')\n",
        "plt.legend(['Train', 'Val'], loc='upper right')\n",
        "plt.show()"
      ],
      "execution_count": 17,
      "outputs": [
        {
          "output_type": "display_data",
          "data": {
            "image/png": "[encoded data removed]",
            "text/plain": [
              "<Figure size 432x288 with 1 Axes>"
            ]
          },
          "metadata": {
            "tags": [],
            "needs_background": "light"
          }
        }
      ]
    },
    {
      "cell_type": "code",
      "metadata": {
        "id": "QUIeeZa3CHAE",
        "colab_type": "code",
        "outputId": "d87b3e7e-b987-4bfe-872c-d700d4cb79da",
        "colab": {
          "base_uri": "https://localhost:8080/",
          "height": 295
        }
      },
      "source": [
        "plt.plot(hist.history['accuracy'])\n",
        "plt.plot(hist.history['val_accuracy'])\n",
        "plt.title('Model accuracy')\n",
        "plt.ylabel('Accuracy')\n",
        "plt.xlabel('Epoch')\n",
        "plt.legend(['Train', 'Val'], loc='lower right')\n",
        "plt.show()"
      ],
      "execution_count": 18,
      "outputs": [
        {
          "output_type": "display_data",
          "data": {
            "image/png": "[encoded data removed]",
            "text/plain": [
              "<Figure size 432x288 with 1 Axes>"
            ]
          },
          "metadata": {
            "tags": [],
            "needs_background": "light"
          }
        }
      ]
    },
    {
      "cell_type": "code",
      "metadata": {
        "id": "Cdqd5RYMRZ7i",
        "colab_type": "code",
        "colab": {
          "base_uri": "https://localhost:8080/",
          "height": 170
        },
        "outputId": "31f7d350-27e6-4720-e199-77d06c81dbb9"
      },
      "source": [
        "# explore precision recall score\n",
        "predictions_dense = model.predict_classes(X_train_tokenized)\n",
        "classification_report(predictions_dense, y_test)\n",
        "print(classification_report(predictions_dense, y_test))"
      ],
      "execution_count": 22,
      "outputs": [
        {
          "output_type": "stream",
          "text": [
            "              precision    recall  f1-score   support\n",
            "\n",
            "           0       0.47      0.50      0.48     11717\n",
            "           1       0.53      0.50      0.51     13283\n",
            "\n",
            "    accuracy                           0.50     25000\n",
            "   macro avg       0.50      0.50      0.50     25000\n",
            "weighted avg       0.50      0.50      0.50     25000\n",
            "\n"
          ],
          "name": "stdout"
        }
      ]
    },
    {
      "cell_type": "markdown",
      "metadata": {
        "id": "YXey99iPCOg_",
        "colab_type": "text"
      },
      "source": [
        "**Embedding + RNN**"
      ]
    },
    {
      "cell_type": "code",
      "metadata": {
        "id": "6EjCvGl0CTD8",
        "colab_type": "code",
        "colab": {}
      },
      "source": [
        "# padding all input sequences to have the same length\n",
        "from keras.preprocessing.sequence import pad_sequences\n",
        "\n",
        "X_train_embedding = pad_sequences(tokenizer.texts_to_sequences(X_train))\n",
        "X_test_embedding = pad_sequences(tokenizer.texts_to_sequences(X_test))"
      ],
      "execution_count": 0,
      "outputs": []
    },
    {
      "cell_type": "code",
      "metadata": {
        "id": "Op1AMwjDDxnq",
        "colab_type": "code",
        "colab": {}
      },
      "source": [
        "# building the archirecture of NN with embedding layer\n",
        "from keras.layers import Embedding, SimpleRNN\n",
        "\n",
        "# input dim = size of the vocabulary\n",
        "# output dim = size of the vector space in which words will be embeded [32:]\n",
        "# input length = length of input sequences\n",
        "\n",
        "model = Sequential()\n",
        "model.add(Embedding(10000, 5))\n",
        "model.add(SimpleRNN(10))\n",
        "model.add(Dense(1, activation='sigmoid'))"
      ],
      "execution_count": 0,
      "outputs": []
    },
    {
      "cell_type": "code",
      "metadata": {
        "id": "m8lw6TlAaMEk",
        "colab_type": "code",
        "colab": {}
      },
      "source": [
        "model.compile(optimizer='rmsprop', loss='binary_crossentropy', metrics=['accuracy'])"
      ],
      "execution_count": 0,
      "outputs": []
    },
    {
      "cell_type": "code",
      "metadata": {
        "id": "Ox2wx0FhabQm",
        "colab_type": "code",
        "outputId": "56c23e39-7ebc-403b-e718-b257f815807f",
        "colab": {
          "base_uri": "https://localhost:8080/",
          "height": 136
        }
      },
      "source": [
        "hist = model.fit(X_train_embedding, y_train, epochs=3, batch_size=100, validation_data=(X_test_embedding, y_test))"
      ],
      "execution_count": 36,
      "outputs": [
        {
          "output_type": "stream",
          "text": [
            "Train on 25000 samples, validate on 25000 samples\n",
            "Epoch 1/3\n",
            "25000/25000 [==============================] - 256s 10ms/step - loss: 0.6710 - accuracy: 0.5987 - val_loss: 0.6592 - val_accuracy: 0.6176\n",
            "Epoch 2/3\n",
            "25000/25000 [==============================] - 261s 10ms/step - loss: 0.5662 - accuracy: 0.7432 - val_loss: 0.5113 - val_accuracy: 0.7886\n",
            "Epoch 3/3\n",
            "25000/25000 [==============================] - 261s 10ms/step - loss: 0.4046 - accuracy: 0.8410 - val_loss: 0.4125 - val_accuracy: 0.8290\n"
          ],
          "name": "stdout"
        }
      ]
    },
    {
      "cell_type": "code",
      "metadata": {
        "id": "OR2D2u2tbDxk",
        "colab_type": "code",
        "outputId": "3d021249-136a-42fc-8614-a7d32f4183a2",
        "colab": {
          "base_uri": "https://localhost:8080/",
          "height": 51
        }
      },
      "source": [
        "# impressed accuracy\n",
        "\n",
        "model.evaluate(X_test_embedding, y_test)[1]"
      ],
      "execution_count": 38,
      "outputs": [
        {
          "output_type": "stream",
          "text": [
            "25000/25000 [==============================] - 46s 2ms/step\n"
          ],
          "name": "stdout"
        },
        {
          "output_type": "execute_result",
          "data": {
            "text/plain": [
              "0.829039990901947"
            ]
          },
          "metadata": {
            "tags": []
          },
          "execution_count": 38
        }
      ]
    },
    {
      "cell_type": "code",
      "metadata": {
        "id": "_XHVnBSMa67E",
        "colab_type": "code",
        "outputId": "4e9ec4d0-6d7e-4ab1-f91f-eafbd82e2278",
        "colab": {
          "base_uri": "https://localhost:8080/",
          "height": 295
        }
      },
      "source": [
        "plt.plot(hist.history['loss'])\n",
        "plt.plot(hist.history['val_loss'])\n",
        "plt.title(['Model loss'])\n",
        "plt.ylabel('Loss')\n",
        "plt.xlabel('Epoch')\n",
        "plt.legend(['Train', 'Val'], loc='upper right')\n",
        "plt.show()"
      ],
      "execution_count": 39,
      "outputs": [
        {
          "output_type": "display_data",
          "data": {
            "image/png": "[encoded data removed]",
            "text/plain": [
              "<Figure size 432x288 with 1 Axes>"
            ]
          },
          "metadata": {
            "tags": [],
            "needs_background": "light"
          }
        }
      ]
    },
    {
      "cell_type": "code",
      "metadata": {
        "id": "2BGMbGtpbZU-",
        "colab_type": "code",
        "outputId": "69468d79-a076-41e9-bfc1-2520704f366e",
        "colab": {
          "base_uri": "https://localhost:8080/",
          "height": 295
        }
      },
      "source": [
        "plt.plot(hist.history['accuracy'])\n",
        "plt.plot(hist.history['val_accuracy'])\n",
        "plt.title('Model accuracy')\n",
        "plt.ylabel('Accuracy')\n",
        "plt.xlabel('Epoch')\n",
        "plt.legend(['Train', 'Val'], loc='lower right')\n",
        "plt.show()"
      ],
      "execution_count": 40,
      "outputs": [
        {
          "output_type": "display_data",
          "data": {
            "image/png": "[encoded data removed]",
            "text/plain": [
              "<Figure size 432x288 with 1 Axes>"
            ]
          },
          "metadata": {
            "tags": [],
            "needs_background": "light"
          }
        }
      ]
    },
    {
      "cell_type": "code",
      "metadata": {
        "id": "kfhlxbdzeY8Y",
        "colab_type": "code",
        "outputId": "91db506c-f282-4f9a-d556-5d2928eff672",
        "colab": {
          "base_uri": "https://localhost:8080/",
          "height": 170
        }
      },
      "source": [
        "predictions_rnn = model.predict_classes(X_train_embedding)\n",
        "classification_report(predictions_rnn, y_test)\n",
        "print(classification_report(predictions_rnn, y_test))"
      ],
      "execution_count": 41,
      "outputs": [
        {
          "output_type": "stream",
          "text": [
            "              precision    recall  f1-score   support\n",
            "\n",
            "           0       0.50      0.50      0.50     12525\n",
            "           1       0.50      0.50      0.50     12475\n",
            "\n",
            "    accuracy                           0.50     25000\n",
            "   macro avg       0.50      0.50      0.50     25000\n",
            "weighted avg       0.50      0.50      0.50     25000\n",
            "\n"
          ],
          "name": "stdout"
        }
      ]
    },
    {
      "cell_type": "markdown",
      "metadata": {
        "id": "9F2YaZcRbdp1",
        "colab_type": "text"
      },
      "source": [
        "**CONCLUSION:**"
      ]
    },
    {
      "cell_type": "markdown",
      "metadata": {
        "id": "dI5tmWsQcZjA",
        "colab_type": "text"
      },
      "source": [
        "Logreg model\n",
        "\n",
        "*   accuracy: 0.50 (50% < 70%)"
      ]
    },
    {
      "cell_type": "markdown",
      "metadata": {
        "id": "Uk0OPJurdGV_",
        "colab_type": "text"
      },
      "source": [
        "Dense model\n",
        "\n",
        "* accuracy: 0.87 (87% > 70%)"
      ]
    },
    {
      "cell_type": "markdown",
      "metadata": {
        "id": "oZiwVn44d8kO",
        "colab_type": "text"
      },
      "source": [
        "RNN model\n",
        "\n",
        "*   accuracy: 0.82 (82% > 70%)"
      ]
    },
    {
      "cell_type": "markdown",
      "metadata": {
        "id": "lBUDxghVffr9",
        "colab_type": "text"
      },
      "source": [
        "Well, we see that Logistic Regression model demonstated the lawest accuracy, while the Dence's accuracy is quite high.\n",
        "\n",
        "RNN showed a bit less accurate result than Dense.\n",
        "\n",
        "The precision showes the share of reviews truly belonging to the specific class. For example, all model demonstrates 50% score in positive reviews.\n",
        "\n",
        "The recall showes the share found reviews that belong to the specific class regarding all reviews in test sample."
      ]
    }
  ]
}
